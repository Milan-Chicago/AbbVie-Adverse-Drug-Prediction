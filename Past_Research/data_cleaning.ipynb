{
 "cells": [
  {
   "cell_type": "code",
   "execution_count": 18,
   "id": "e229e7a4",
   "metadata": {},
   "outputs": [],
   "source": [
    "import os\n",
    "import sys\n",
    "import numpy as np\n",
    "import pandas as pd\n",
    "import matplotlib.pyplot as plt\n",
    "import json"
   ]
  },
  {
   "cell_type": "code",
   "execution_count": 19,
   "id": "21941338",
   "metadata": {},
   "outputs": [],
   "source": [
    "from sklearn import tree\n",
    "from sklearn.ensemble import RandomForestClassifier\n",
    "from sklearn.model_selection import train_test_split\n",
    "from sklearn.metrics import accuracy_score, classification_report, confusion_matrix"
   ]
  },
  {
   "cell_type": "code",
   "execution_count": 20,
   "id": "e708f7a3",
   "metadata": {},
   "outputs": [],
   "source": [
    "def big_data(data, fields):\n",
    "    dfs = []\n",
    "    for filename in os.listdir(data):\n",
    "        f = os.path.join(data,filename)\n",
    "        df = pd.read_csv(f, delimiter='$',skipinitialspace=True,usecols=fields)\n",
    "        dfs.append(df)\n",
    "    return pd.concat(dfs)"
   ]
  },
  {
   "cell_type": "code",
   "execution_count": 21,
   "id": "fbe2ca7d",
   "metadata": {},
   "outputs": [
    {
     "name": "stdout",
     "output_type": "stream",
     "text": [
      "['DEMO\\\\DEMO16Q1.txt', 'DEMO\\\\DEMO16Q2.txt', 'DEMO\\\\DEMO16Q3.txt', 'DEMO\\\\DEMO16Q4.txt', 'DEMO\\\\DEMO17Q1.txt', 'DEMO\\\\DEMO17Q2.txt', 'DEMO\\\\DEMO17Q3.txt', 'DEMO\\\\DEMO17Q4.txt', 'DEMO\\\\DEMO18Q1.txt', 'DEMO\\\\DEMO18Q2.txt', 'DEMO\\\\DEMO18Q3.txt', 'DEMO\\\\DEMO18Q4.txt', 'DEMO\\\\DEMO19Q1.txt', 'DEMO\\\\DEMO19Q2.txt', 'DEMO\\\\DEMO19Q3.txt', 'DEMO\\\\DEMO19Q4.txt', 'DEMO\\\\DEMO20Q1.txt', 'DEMO\\\\DEMO20Q2.txt', 'DEMO\\\\DEMO20Q3.txt', 'DEMO\\\\DEMO20Q4.txt', 'DEMO\\\\DEMO21Q1.txt']\n"
     ]
    }
   ],
   "source": [
    "y = []\n",
    "for filename in os.listdir('DEMO'):\n",
    "    f = os.path.join('DEMO', filename)\n",
    "    y.append(f)\n",
    "print(y)"
   ]
  },
  {
   "cell_type": "code",
   "execution_count": 22,
   "id": "4ac513aa",
   "metadata": {
    "tags": []
   },
   "outputs": [],
   "source": [
    "drug_fields = ['primaryid','caseid','drugname','prod_ai']\n",
    "drugs = big_data('DRUG', drug_fields)\n",
    "demo_fields = [\"primaryid\",\"caseid\",\"age\",\"sex\",\"wt\"]\n",
    "demo = big_data('DEMO', demo_fields)\n",
    "react_fields = ['primaryid','caseid','pt']\n",
    "react = big_data('REAC', react_fields)"
   ]
  },
  {
   "cell_type": "code",
   "execution_count": 23,
   "id": "b1bd0148",
   "metadata": {},
   "outputs": [
    {
     "data": {
      "text/html": [
       "<div>\n",
       "<style scoped>\n",
       "    .dataframe tbody tr th:only-of-type {\n",
       "        vertical-align: middle;\n",
       "    }\n",
       "\n",
       "    .dataframe tbody tr th {\n",
       "        vertical-align: top;\n",
       "    }\n",
       "\n",
       "    .dataframe thead th {\n",
       "        text-align: right;\n",
       "    }\n",
       "</style>\n",
       "<table border=\"1\" class=\"dataframe\">\n",
       "  <thead>\n",
       "    <tr style=\"text-align: right;\">\n",
       "      <th></th>\n",
       "      <th>primaryid</th>\n",
       "      <th>caseid</th>\n",
       "      <th>age</th>\n",
       "      <th>sex</th>\n",
       "      <th>wt</th>\n",
       "    </tr>\n",
       "  </thead>\n",
       "  <tbody>\n",
       "    <tr>\n",
       "      <th>3</th>\n",
       "      <td>100049985</td>\n",
       "      <td>10004998</td>\n",
       "      <td>2.0</td>\n",
       "      <td>F</td>\n",
       "      <td>NaN</td>\n",
       "    </tr>\n",
       "  </tbody>\n",
       "</table>\n",
       "</div>"
      ],
      "text/plain": [
       "   primaryid    caseid  age sex  wt\n",
       "3  100049985  10004998  2.0   F NaN"
      ]
     },
     "execution_count": 23,
     "metadata": {},
     "output_type": "execute_result"
    }
   ],
   "source": [
    "demo[demo['primaryid'] == 100049985].head()"
   ]
  },
  {
   "cell_type": "code",
   "execution_count": 24,
   "id": "0d1dff67",
   "metadata": {},
   "outputs": [
    {
     "data": {
      "text/html": [
       "<div>\n",
       "<style scoped>\n",
       "    .dataframe tbody tr th:only-of-type {\n",
       "        vertical-align: middle;\n",
       "    }\n",
       "\n",
       "    .dataframe tbody tr th {\n",
       "        vertical-align: top;\n",
       "    }\n",
       "\n",
       "    .dataframe thead th {\n",
       "        text-align: right;\n",
       "    }\n",
       "</style>\n",
       "<table border=\"1\" class=\"dataframe\">\n",
       "  <thead>\n",
       "    <tr style=\"text-align: right;\">\n",
       "      <th></th>\n",
       "      <th>primaryid</th>\n",
       "      <th>caseid</th>\n",
       "      <th>drugname</th>\n",
       "      <th>prod_ai</th>\n",
       "    </tr>\n",
       "  </thead>\n",
       "  <tbody>\n",
       "    <tr>\n",
       "      <th>5</th>\n",
       "      <td>100049985</td>\n",
       "      <td>10004998</td>\n",
       "      <td>AFINITOR</td>\n",
       "      <td>EVEROLIMUS</td>\n",
       "    </tr>\n",
       "    <tr>\n",
       "      <th>6</th>\n",
       "      <td>100049985</td>\n",
       "      <td>10004998</td>\n",
       "      <td>AFINITOR</td>\n",
       "      <td>EVEROLIMUS</td>\n",
       "    </tr>\n",
       "    <tr>\n",
       "      <th>7</th>\n",
       "      <td>100049985</td>\n",
       "      <td>10004998</td>\n",
       "      <td>KEPPRA</td>\n",
       "      <td>LEVETIRACETAM</td>\n",
       "    </tr>\n",
       "    <tr>\n",
       "      <th>8</th>\n",
       "      <td>100049985</td>\n",
       "      <td>10004998</td>\n",
       "      <td>SABRIL</td>\n",
       "      <td>VIGABATRIN</td>\n",
       "    </tr>\n",
       "    <tr>\n",
       "      <th>9</th>\n",
       "      <td>100049985</td>\n",
       "      <td>10004998</td>\n",
       "      <td>FELBAMATE.</td>\n",
       "      <td>FELBAMATE</td>\n",
       "    </tr>\n",
       "  </tbody>\n",
       "</table>\n",
       "</div>"
      ],
      "text/plain": [
       "   primaryid    caseid    drugname        prod_ai\n",
       "5  100049985  10004998    AFINITOR     EVEROLIMUS\n",
       "6  100049985  10004998    AFINITOR     EVEROLIMUS\n",
       "7  100049985  10004998      KEPPRA  LEVETIRACETAM\n",
       "8  100049985  10004998      SABRIL     VIGABATRIN\n",
       "9  100049985  10004998  FELBAMATE.      FELBAMATE"
      ]
     },
     "execution_count": 24,
     "metadata": {},
     "output_type": "execute_result"
    }
   ],
   "source": [
    "drugs[drugs['primaryid'] == 100049985].head()"
   ]
  },
  {
   "cell_type": "code",
   "execution_count": 25,
   "id": "efcc0c2e",
   "metadata": {},
   "outputs": [
    {
     "data": {
      "text/html": [
       "<div>\n",
       "<style scoped>\n",
       "    .dataframe tbody tr th:only-of-type {\n",
       "        vertical-align: middle;\n",
       "    }\n",
       "\n",
       "    .dataframe tbody tr th {\n",
       "        vertical-align: top;\n",
       "    }\n",
       "\n",
       "    .dataframe thead th {\n",
       "        text-align: right;\n",
       "    }\n",
       "</style>\n",
       "<table border=\"1\" class=\"dataframe\">\n",
       "  <thead>\n",
       "    <tr style=\"text-align: right;\">\n",
       "      <th></th>\n",
       "      <th>primaryid</th>\n",
       "      <th>caseid</th>\n",
       "      <th>pt</th>\n",
       "    </tr>\n",
       "  </thead>\n",
       "  <tbody>\n",
       "    <tr>\n",
       "      <th>6</th>\n",
       "      <td>100049985</td>\n",
       "      <td>10004998</td>\n",
       "      <td>Drug level decreased</td>\n",
       "    </tr>\n",
       "    <tr>\n",
       "      <th>7</th>\n",
       "      <td>100049985</td>\n",
       "      <td>10004998</td>\n",
       "      <td>Seizure</td>\n",
       "    </tr>\n",
       "    <tr>\n",
       "      <th>8</th>\n",
       "      <td>100049985</td>\n",
       "      <td>10004998</td>\n",
       "      <td>Weight increased</td>\n",
       "    </tr>\n",
       "  </tbody>\n",
       "</table>\n",
       "</div>"
      ],
      "text/plain": [
       "   primaryid    caseid                    pt\n",
       "6  100049985  10004998  Drug level decreased\n",
       "7  100049985  10004998               Seizure\n",
       "8  100049985  10004998      Weight increased"
      ]
     },
     "execution_count": 25,
     "metadata": {},
     "output_type": "execute_result"
    }
   ],
   "source": [
    "react[react['primaryid'] == 100049985].head()"
   ]
  },
  {
   "cell_type": "code",
   "execution_count": 26,
   "id": "38929266",
   "metadata": {},
   "outputs": [
    {
     "name": "stdout",
     "output_type": "stream",
     "text": [
      "8307468\n",
      "7259365\n"
     ]
    }
   ],
   "source": [
    "print(len(pd.unique(react['primaryid'])))\n",
    "print(len(pd.unique(react['caseid'])))"
   ]
  },
  {
   "cell_type": "code",
   "execution_count": 27,
   "id": "0526980d",
   "metadata": {},
   "outputs": [
    {
     "name": "stdout",
     "output_type": "stream",
     "text": [
      "33480762\n"
     ]
    }
   ],
   "source": [
    "drugs.head()\n",
    "print(drugs.shape[0])"
   ]
  },
  {
   "cell_type": "code",
   "execution_count": 28,
   "id": "e137a517",
   "metadata": {},
   "outputs": [
    {
     "name": "stdout",
     "output_type": "stream",
     "text": [
      "8307690\n",
      "8307690\n"
     ]
    }
   ],
   "source": [
    "demo.head()\n",
    "print(demo.shape[0])\n",
    "demo.drop_duplicates()\n",
    "print(demo.shape[0])"
   ]
  },
  {
   "cell_type": "code",
   "execution_count": 29,
   "id": "5b1cea5d",
   "metadata": {},
   "outputs": [
    {
     "data": {
      "text/html": [
       "<div>\n",
       "<style scoped>\n",
       "    .dataframe tbody tr th:only-of-type {\n",
       "        vertical-align: middle;\n",
       "    }\n",
       "\n",
       "    .dataframe tbody tr th {\n",
       "        vertical-align: top;\n",
       "    }\n",
       "\n",
       "    .dataframe thead th {\n",
       "        text-align: right;\n",
       "    }\n",
       "</style>\n",
       "<table border=\"1\" class=\"dataframe\">\n",
       "  <thead>\n",
       "    <tr style=\"text-align: right;\">\n",
       "      <th></th>\n",
       "      <th>primaryid</th>\n",
       "      <th>caseid</th>\n",
       "      <th>pt</th>\n",
       "    </tr>\n",
       "  </thead>\n",
       "  <tbody>\n",
       "    <tr>\n",
       "      <th>0</th>\n",
       "      <td>100036613</td>\n",
       "      <td>10003661</td>\n",
       "      <td>Depression</td>\n",
       "    </tr>\n",
       "    <tr>\n",
       "      <th>1</th>\n",
       "      <td>100036613</td>\n",
       "      <td>10003661</td>\n",
       "      <td>Drug effect decreased</td>\n",
       "    </tr>\n",
       "    <tr>\n",
       "      <th>2</th>\n",
       "      <td>100036613</td>\n",
       "      <td>10003661</td>\n",
       "      <td>Wheelchair user</td>\n",
       "    </tr>\n",
       "    <tr>\n",
       "      <th>3</th>\n",
       "      <td>100043112</td>\n",
       "      <td>10004311</td>\n",
       "      <td>Renal artery thrombosis</td>\n",
       "    </tr>\n",
       "    <tr>\n",
       "      <th>4</th>\n",
       "      <td>100045852</td>\n",
       "      <td>10004585</td>\n",
       "      <td>Cataract</td>\n",
       "    </tr>\n",
       "  </tbody>\n",
       "</table>\n",
       "</div>"
      ],
      "text/plain": [
       "   primaryid    caseid                       pt\n",
       "0  100036613  10003661               Depression\n",
       "1  100036613  10003661    Drug effect decreased\n",
       "2  100036613  10003661          Wheelchair user\n",
       "3  100043112  10004311  Renal artery thrombosis\n",
       "4  100045852  10004585                 Cataract"
      ]
     },
     "execution_count": 29,
     "metadata": {},
     "output_type": "execute_result"
    }
   ],
   "source": [
    "react.head()"
   ]
  },
  {
   "cell_type": "code",
   "execution_count": 30,
   "id": "6620105b",
   "metadata": {},
   "outputs": [],
   "source": [
    "df = pd.merge(demo, drugs.drop(columns=['caseid']), left_on='primaryid', right_on='primaryid', how='left')"
   ]
  },
  {
   "cell_type": "code",
   "execution_count": 31,
   "id": "b605fc24",
   "metadata": {},
   "outputs": [
    {
     "data": {
      "text/plain": [
       "33488110"
      ]
     },
     "execution_count": 31,
     "metadata": {},
     "output_type": "execute_result"
    }
   ],
   "source": [
    "df.shape[0]"
   ]
  },
  {
   "cell_type": "code",
   "execution_count": 32,
   "id": "1df8ea87",
   "metadata": {},
   "outputs": [],
   "source": [
    "df = pd.merge(df,react.drop(columns=['caseid']), left_on='primaryid', right_on='primaryid', how='inner')"
   ]
  },
  {
   "cell_type": "code",
   "execution_count": 33,
   "id": "584cdc0d",
   "metadata": {},
   "outputs": [
    {
     "data": {
      "text/plain": [
       "161114107"
      ]
     },
     "execution_count": 33,
     "metadata": {},
     "output_type": "execute_result"
    }
   ],
   "source": [
    "df.shape[0]"
   ]
  },
  {
   "cell_type": "code",
   "execution_count": 34,
   "id": "933d7c4a",
   "metadata": {},
   "outputs": [
    {
     "data": {
      "text/html": [
       "<div>\n",
       "<style scoped>\n",
       "    .dataframe tbody tr th:only-of-type {\n",
       "        vertical-align: middle;\n",
       "    }\n",
       "\n",
       "    .dataframe tbody tr th {\n",
       "        vertical-align: top;\n",
       "    }\n",
       "\n",
       "    .dataframe thead th {\n",
       "        text-align: right;\n",
       "    }\n",
       "</style>\n",
       "<table border=\"1\" class=\"dataframe\">\n",
       "  <thead>\n",
       "    <tr style=\"text-align: right;\">\n",
       "      <th></th>\n",
       "      <th>primaryid</th>\n",
       "      <th>caseid</th>\n",
       "      <th>age</th>\n",
       "      <th>sex</th>\n",
       "      <th>wt</th>\n",
       "      <th>drugname</th>\n",
       "      <th>prod_ai</th>\n",
       "      <th>pt</th>\n",
       "    </tr>\n",
       "  </thead>\n",
       "  <tbody>\n",
       "    <tr>\n",
       "      <th>0</th>\n",
       "      <td>100036613</td>\n",
       "      <td>10003661</td>\n",
       "      <td>NaN</td>\n",
       "      <td>F</td>\n",
       "      <td>NaN</td>\n",
       "      <td>AMPYRA</td>\n",
       "      <td>DALFAMPRIDINE</td>\n",
       "      <td>Depression</td>\n",
       "    </tr>\n",
       "    <tr>\n",
       "      <th>1</th>\n",
       "      <td>100036613</td>\n",
       "      <td>10003661</td>\n",
       "      <td>NaN</td>\n",
       "      <td>F</td>\n",
       "      <td>NaN</td>\n",
       "      <td>AMPYRA</td>\n",
       "      <td>DALFAMPRIDINE</td>\n",
       "      <td>Drug effect decreased</td>\n",
       "    </tr>\n",
       "    <tr>\n",
       "      <th>2</th>\n",
       "      <td>100036613</td>\n",
       "      <td>10003661</td>\n",
       "      <td>NaN</td>\n",
       "      <td>F</td>\n",
       "      <td>NaN</td>\n",
       "      <td>AMPYRA</td>\n",
       "      <td>DALFAMPRIDINE</td>\n",
       "      <td>Wheelchair user</td>\n",
       "    </tr>\n",
       "    <tr>\n",
       "      <th>3</th>\n",
       "      <td>100043112</td>\n",
       "      <td>10004311</td>\n",
       "      <td>73.0</td>\n",
       "      <td>M</td>\n",
       "      <td>NaN</td>\n",
       "      <td>PRADAXA</td>\n",
       "      <td>DABIGATRAN ETEXILATE MESYLATE</td>\n",
       "      <td>Renal artery thrombosis</td>\n",
       "    </tr>\n",
       "    <tr>\n",
       "      <th>4</th>\n",
       "      <td>100043112</td>\n",
       "      <td>10004311</td>\n",
       "      <td>73.0</td>\n",
       "      <td>M</td>\n",
       "      <td>NaN</td>\n",
       "      <td>PRADAXA</td>\n",
       "      <td>DABIGATRAN ETEXILATE MESYLATE</td>\n",
       "      <td>Renal artery thrombosis</td>\n",
       "    </tr>\n",
       "  </tbody>\n",
       "</table>\n",
       "</div>"
      ],
      "text/plain": [
       "   primaryid    caseid   age sex  wt drugname                        prod_ai  \\\n",
       "0  100036613  10003661   NaN   F NaN   AMPYRA                  DALFAMPRIDINE   \n",
       "1  100036613  10003661   NaN   F NaN   AMPYRA                  DALFAMPRIDINE   \n",
       "2  100036613  10003661   NaN   F NaN   AMPYRA                  DALFAMPRIDINE   \n",
       "3  100043112  10004311  73.0   M NaN  PRADAXA  DABIGATRAN ETEXILATE MESYLATE   \n",
       "4  100043112  10004311  73.0   M NaN  PRADAXA  DABIGATRAN ETEXILATE MESYLATE   \n",
       "\n",
       "                        pt  \n",
       "0               Depression  \n",
       "1    Drug effect decreased  \n",
       "2          Wheelchair user  \n",
       "3  Renal artery thrombosis  \n",
       "4  Renal artery thrombosis  "
      ]
     },
     "execution_count": 34,
     "metadata": {},
     "output_type": "execute_result"
    }
   ],
   "source": [
    "df.head()"
   ]
  },
  {
   "cell_type": "code",
   "execution_count": 35,
   "id": "1c4f9384",
   "metadata": {},
   "outputs": [
    {
     "data": {
      "text/plain": [
       "array(['DALFAMPRIDINE', 'DABIGATRAN ETEXILATE MESYLATE', 'LATANOPROST',\n",
       "       ..., 'ALPHA-PYRROLIDINOHEPTAPHENONE',\n",
       "       'CALCIUM CARBONATE\\\\VITAMIN D\\\\ZINC',\n",
       "       'CAFFEINE\\\\FAMOTIDINE\\\\IBUPROFEN\\\\ONDANSETRON'], dtype=object)"
      ]
     },
     "execution_count": 35,
     "metadata": {},
     "output_type": "execute_result"
    }
   ],
   "source": [
    "df['prod_ai'].unique()"
   ]
  },
  {
   "cell_type": "code",
   "execution_count": 36,
   "id": "c217bbac",
   "metadata": {},
   "outputs": [
    {
     "data": {
      "text/plain": [
       "primaryid            0\n",
       "caseid               0\n",
       "age           45151600\n",
       "sex           16630225\n",
       "wt           101525959\n",
       "drugname          1940\n",
       "prod_ai        3371670\n",
       "pt                   0\n",
       "dtype: int64"
      ]
     },
     "execution_count": 36,
     "metadata": {},
     "output_type": "execute_result"
    }
   ],
   "source": [
    "df.isnull().sum(axis = 0)"
   ]
  },
  {
   "cell_type": "code",
   "execution_count": 37,
   "id": "961e7a73",
   "metadata": {},
   "outputs": [],
   "source": [
    "df = df.dropna()"
   ]
  },
  {
   "cell_type": "code",
   "execution_count": 38,
   "id": "3f5f22c7",
   "metadata": {},
   "outputs": [
    {
     "data": {
      "text/plain": [
       "primaryid    0\n",
       "caseid       0\n",
       "age          0\n",
       "sex          0\n",
       "wt           0\n",
       "drugname     0\n",
       "prod_ai      0\n",
       "pt           0\n",
       "dtype: int64"
      ]
     },
     "execution_count": 38,
     "metadata": {},
     "output_type": "execute_result"
    }
   ],
   "source": [
    "df.isnull().sum(axis = 0)"
   ]
  },
  {
   "cell_type": "code",
   "execution_count": 39,
   "id": "751821c5",
   "metadata": {},
   "outputs": [
    {
     "data": {
      "text/plain": [
       "50120772"
      ]
     },
     "execution_count": 39,
     "metadata": {},
     "output_type": "execute_result"
    }
   ],
   "source": [
    "df.shape[0]"
   ]
  },
  {
   "cell_type": "code",
   "execution_count": 40,
   "id": "21e90b79",
   "metadata": {},
   "outputs": [
    {
     "name": "stdout",
     "output_type": "stream",
     "text": [
      "36882955\n"
     ]
    },
    {
     "data": {
      "text/html": [
       "<div>\n",
       "<style scoped>\n",
       "    .dataframe tbody tr th:only-of-type {\n",
       "        vertical-align: middle;\n",
       "    }\n",
       "\n",
       "    .dataframe tbody tr th {\n",
       "        vertical-align: top;\n",
       "    }\n",
       "\n",
       "    .dataframe thead th {\n",
       "        text-align: right;\n",
       "    }\n",
       "</style>\n",
       "<table border=\"1\" class=\"dataframe\">\n",
       "  <thead>\n",
       "    <tr style=\"text-align: right;\">\n",
       "      <th></th>\n",
       "      <th>primaryid</th>\n",
       "      <th>caseid</th>\n",
       "      <th>age</th>\n",
       "      <th>sex</th>\n",
       "      <th>wt</th>\n",
       "      <th>drugname</th>\n",
       "      <th>prod_ai</th>\n",
       "      <th>pt</th>\n",
       "    </tr>\n",
       "  </thead>\n",
       "  <tbody>\n",
       "    <tr>\n",
       "      <th>75</th>\n",
       "      <td>100051155</td>\n",
       "      <td>10005115</td>\n",
       "      <td>59.0</td>\n",
       "      <td>M</td>\n",
       "      <td>86.26</td>\n",
       "      <td>HUMIRA</td>\n",
       "      <td>ADALIMUMAB</td>\n",
       "      <td>Abdominal pain</td>\n",
       "    </tr>\n",
       "    <tr>\n",
       "      <th>76</th>\n",
       "      <td>100051155</td>\n",
       "      <td>10005115</td>\n",
       "      <td>59.0</td>\n",
       "      <td>M</td>\n",
       "      <td>86.26</td>\n",
       "      <td>HUMIRA</td>\n",
       "      <td>ADALIMUMAB</td>\n",
       "      <td>Adenocarcinoma of colon</td>\n",
       "    </tr>\n",
       "    <tr>\n",
       "      <th>77</th>\n",
       "      <td>100051155</td>\n",
       "      <td>10005115</td>\n",
       "      <td>59.0</td>\n",
       "      <td>M</td>\n",
       "      <td>86.26</td>\n",
       "      <td>HUMIRA</td>\n",
       "      <td>ADALIMUMAB</td>\n",
       "      <td>Gastrointestinal inflammation</td>\n",
       "    </tr>\n",
       "    <tr>\n",
       "      <th>78</th>\n",
       "      <td>100051155</td>\n",
       "      <td>10005115</td>\n",
       "      <td>59.0</td>\n",
       "      <td>M</td>\n",
       "      <td>86.26</td>\n",
       "      <td>HUMIRA</td>\n",
       "      <td>ADALIMUMAB</td>\n",
       "      <td>Intestinal mucosal hypertrophy</td>\n",
       "    </tr>\n",
       "    <tr>\n",
       "      <th>79</th>\n",
       "      <td>100051155</td>\n",
       "      <td>10005115</td>\n",
       "      <td>59.0</td>\n",
       "      <td>M</td>\n",
       "      <td>86.26</td>\n",
       "      <td>HUMIRA</td>\n",
       "      <td>ADALIMUMAB</td>\n",
       "      <td>Intestinal obstruction</td>\n",
       "    </tr>\n",
       "  </tbody>\n",
       "</table>\n",
       "</div>"
      ],
      "text/plain": [
       "    primaryid    caseid   age sex     wt drugname     prod_ai  \\\n",
       "75  100051155  10005115  59.0   M  86.26   HUMIRA  ADALIMUMAB   \n",
       "76  100051155  10005115  59.0   M  86.26   HUMIRA  ADALIMUMAB   \n",
       "77  100051155  10005115  59.0   M  86.26   HUMIRA  ADALIMUMAB   \n",
       "78  100051155  10005115  59.0   M  86.26   HUMIRA  ADALIMUMAB   \n",
       "79  100051155  10005115  59.0   M  86.26   HUMIRA  ADALIMUMAB   \n",
       "\n",
       "                                pt  \n",
       "75                  Abdominal pain  \n",
       "76         Adenocarcinoma of colon  \n",
       "77   Gastrointestinal inflammation  \n",
       "78  Intestinal mucosal hypertrophy  \n",
       "79          Intestinal obstruction  "
      ]
     },
     "execution_count": 40,
     "metadata": {},
     "output_type": "execute_result"
    }
   ],
   "source": [
    "df = df.drop_duplicates(keep='first')\n",
    "print(df.shape[0])\n",
    "df.head()"
   ]
  },
  {
   "cell_type": "code",
   "execution_count": 41,
   "id": "de2db7d6",
   "metadata": {},
   "outputs": [
    {
     "name": "stdout",
     "output_type": "stream",
     "text": [
      "15671\n"
     ]
    }
   ],
   "source": [
    "print(len(list(df['pt'].value_counts(ascending=True))))"
   ]
  },
  {
   "cell_type": "code",
   "execution_count": null,
   "id": "2a4b1f04",
   "metadata": {},
   "outputs": [],
   "source": [
    "pt_dict = dict(df['pt'].value_counts(ascending=False))\n",
    "print(pt_dict)"
   ]
  },
  {
   "cell_type": "code",
   "execution_count": 23,
   "id": "c38559ab",
   "metadata": {},
   "outputs": [
    {
     "name": "stdout",
     "output_type": "stream",
     "text": [
      "8711\n",
      "3922\n"
     ]
    },
    {
     "data": {
      "text/plain": [
       "CHENOPODIUM ALBUM POLLEN                                                                                                              100\n",
       "LEVOMEPROMAZINE HYDROCHLORIDE                                                                                                         100\n",
       "CLOSTRIDIUM TETANI TOXOID ANTIGEN (FORMALDEHYDE INACTIVATED)\\MENINGOCOCCAL POLYSACCHARIDE VACCINE, GROUPS A, C, Y,W135 COMBINED       100\n",
       "TRIBASIC CALCIUM PHOSPHATE                                                                                                            100\n",
       "ALGINIC ACID\\ALUMINUM HYDROXIDE\\MAGNESIUM TRISILICATE                                                                                 100\n",
       "                                                                                                                                    ...  \n",
       "CHOLECALCIFEROL                                                                                                                    395204\n",
       "AMLODIPINE BESYLATE                                                                                                                395402\n",
       "PREDNISONE                                                                                                                         435611\n",
       "ACETAMINOPHEN                                                                                                                      558293\n",
       "ASPIRIN                                                                                                                            579569\n",
       "Name: prod_ai, Length: 3922, dtype: int64"
      ]
     },
     "execution_count": 23,
     "metadata": {},
     "output_type": "execute_result"
    }
   ],
   "source": [
    "ai_dict = dict(df['prod_ai'].value_counts(ascending=True))\n",
    "# df['prod_ai'].value_counts(ascending=True)\n",
    "filter_dict = dict((k,v) for k,v in ai_dict.items() if v >= 100)\n",
    "print(len(ai_dict))\n",
    "print(len(filter_dict))\n",
    "filter_list = list(filter_dict.keys())\n",
    "filter_df = df[df['prod_ai'].isin(filter_list)]\n",
    "filter_df.prod_ai.nunique()\n",
    "filter_df['prod_ai'].value_counts(ascending=True)"
   ]
  },
  {
   "cell_type": "code",
   "execution_count": 24,
   "id": "7ce3a928",
   "metadata": {},
   "outputs": [
    {
     "data": {
      "text/plain": [
       "0    23749080\n",
       "1    13022136\n",
       "Name: sex, dtype: int64"
      ]
     },
     "execution_count": 24,
     "metadata": {},
     "output_type": "execute_result"
    }
   ],
   "source": [
    "filter_df = filter_df[~filter_df['sex'].isin(['UNK','T','I','P'])]\n",
    "filter_df.loc[filter_df['sex'] == 'F','sex'] = 0\n",
    "filter_df.loc[filter_df['sex'] == 'M','sex'] = 1\n",
    "filter_df['sex'].value_counts()"
   ]
  },
  {
   "cell_type": "code",
   "execution_count": 25,
   "id": "8f4b4bdd",
   "metadata": {},
   "outputs": [
    {
     "data": {
      "text/plain": [
       "65.0     1051895\n",
       "64.0      932504\n",
       "68.0      922485\n",
       "62.0      910589\n",
       "59.0      905596\n",
       "          ...   \n",
       "113.0         18\n",
       "109.0         14\n",
       "117.0         12\n",
       "116.0         11\n",
       "105.0         11\n",
       "Name: age, Length: 118, dtype: int64"
      ]
     },
     "execution_count": 25,
     "metadata": {},
     "output_type": "execute_result"
    }
   ],
   "source": [
    "filter_df = filter_df[(filter_df['age'] <= 120) & (filter_df['age'] >= 0)]\n",
    "filter_df['age'].value_counts()"
   ]
  },
  {
   "cell_type": "code",
   "execution_count": 26,
   "id": "5b048940",
   "metadata": {},
   "outputs": [
    {
     "data": {
      "text/plain": [
       "3.0    15363469\n",
       "2.0    12201634\n",
       "1.0     3781266\n",
       "4.0     2310270\n",
       "0.0     1806512\n",
       "5.0        3125\n",
       "Name: age, dtype: int64"
      ]
     },
     "execution_count": 26,
     "metadata": {},
     "output_type": "execute_result"
    }
   ],
   "source": [
    "for i in range(6):\n",
    "    filter_df.loc[(filter_df['age'] >= i*20) & (filter_df['age'] <= (i+1)*20),'age'] = i\n",
    "filter_df.age.value_counts()"
   ]
  },
  {
   "cell_type": "code",
   "execution_count": 27,
   "id": "dcbc2b75",
   "metadata": {
    "tags": []
   },
   "outputs": [],
   "source": [
    "from sklearn.preprocessing import LabelEncoder"
   ]
  },
  {
   "cell_type": "markdown",
   "id": "30e8f8f2",
   "metadata": {},
   "source": [
    "print(dict(filter_df.pt.value_counts())) ['Nasopharyngitis','Pyrexia','Vomiting','Pneumonia']"
   ]
  },
  {
   "cell_type": "code",
   "execution_count": 28,
   "id": "e89b2d87",
   "metadata": {},
   "outputs": [],
   "source": [
    "from sklearn.preprocessing import LabelBinarizer\n",
    "import category_encoders as ce"
   ]
  },
  {
   "cell_type": "code",
   "execution_count": 29,
   "id": "86521e5d",
   "metadata": {},
   "outputs": [
    {
     "name": "stderr",
     "output_type": "stream",
     "text": [
      "C:\\Users\\DrNuj\\miniconda3\\envs\\abbvie\\lib\\site-packages\\category_encoders\\utils.py:21: FutureWarning: is_categorical is deprecated and will be removed in a future version.  Use is_categorical_dtype instead\n",
      "  elif pd.api.types.is_categorical(cols):\n"
     ]
    },
    {
     "ename": "MemoryError",
     "evalue": "Unable to allocate 3.44 GiB for an array with shape (13, 35466276) and data type int64",
     "output_type": "error",
     "traceback": [
      "\u001b[1;31m---------------------------------------------------------------------------\u001b[0m",
      "\u001b[1;31mMemoryError\u001b[0m                               Traceback (most recent call last)",
      "\u001b[1;32m<ipython-input-29-3be267d03c8f>\u001b[0m in \u001b[0;36m<module>\u001b[1;34m\u001b[0m\n\u001b[0;32m      1\u001b[0m \u001b[0mlb_prod_ai\u001b[0m \u001b[1;33m=\u001b[0m \u001b[0mce\u001b[0m\u001b[1;33m.\u001b[0m\u001b[0mBinaryEncoder\u001b[0m\u001b[1;33m(\u001b[0m\u001b[0mcols\u001b[0m\u001b[1;33m=\u001b[0m\u001b[1;34m'prod_ai'\u001b[0m\u001b[1;33m,\u001b[0m \u001b[0mreturn_df\u001b[0m\u001b[1;33m=\u001b[0m\u001b[1;32mTrue\u001b[0m\u001b[1;33m)\u001b[0m\u001b[1;33m\u001b[0m\u001b[1;33m\u001b[0m\u001b[0m\n\u001b[1;32m----> 2\u001b[1;33m \u001b[0mbinary_data\u001b[0m \u001b[1;33m=\u001b[0m \u001b[0mlb_prod_ai\u001b[0m\u001b[1;33m.\u001b[0m\u001b[0mfit_transform\u001b[0m\u001b[1;33m(\u001b[0m\u001b[0mfilter_df\u001b[0m\u001b[1;33m)\u001b[0m\u001b[1;33m\u001b[0m\u001b[1;33m\u001b[0m\u001b[0m\n\u001b[0m\u001b[0;32m      3\u001b[0m \u001b[1;31m# lb_prod_ai = LabelEncoder()\u001b[0m\u001b[1;33m\u001b[0m\u001b[1;33m\u001b[0m\u001b[1;33m\u001b[0m\u001b[0m\n\u001b[0;32m      4\u001b[0m \u001b[1;31m# filter_df['prod_ai_n'] = lb_prod_ai.fit_transform(filter_df['prod_ai'])\u001b[0m\u001b[1;33m\u001b[0m\u001b[1;33m\u001b[0m\u001b[1;33m\u001b[0m\u001b[0m\n\u001b[0;32m      5\u001b[0m \u001b[1;31m# filter_df.head()\u001b[0m\u001b[1;33m\u001b[0m\u001b[1;33m\u001b[0m\u001b[1;33m\u001b[0m\u001b[0m\n",
      "\u001b[1;32m~\\miniconda3\\envs\\abbvie\\lib\\site-packages\\sklearn\\base.py\u001b[0m in \u001b[0;36mfit_transform\u001b[1;34m(self, X, y, **fit_params)\u001b[0m\n\u001b[0;32m    697\u001b[0m         \u001b[1;32mif\u001b[0m \u001b[0my\u001b[0m \u001b[1;32mis\u001b[0m \u001b[1;32mNone\u001b[0m\u001b[1;33m:\u001b[0m\u001b[1;33m\u001b[0m\u001b[1;33m\u001b[0m\u001b[0m\n\u001b[0;32m    698\u001b[0m             \u001b[1;31m# fit method of arity 1 (unsupervised transformation)\u001b[0m\u001b[1;33m\u001b[0m\u001b[1;33m\u001b[0m\u001b[1;33m\u001b[0m\u001b[0m\n\u001b[1;32m--> 699\u001b[1;33m             \u001b[1;32mreturn\u001b[0m \u001b[0mself\u001b[0m\u001b[1;33m.\u001b[0m\u001b[0mfit\u001b[0m\u001b[1;33m(\u001b[0m\u001b[0mX\u001b[0m\u001b[1;33m,\u001b[0m \u001b[1;33m**\u001b[0m\u001b[0mfit_params\u001b[0m\u001b[1;33m)\u001b[0m\u001b[1;33m.\u001b[0m\u001b[0mtransform\u001b[0m\u001b[1;33m(\u001b[0m\u001b[0mX\u001b[0m\u001b[1;33m)\u001b[0m\u001b[1;33m\u001b[0m\u001b[1;33m\u001b[0m\u001b[0m\n\u001b[0m\u001b[0;32m    700\u001b[0m         \u001b[1;32melse\u001b[0m\u001b[1;33m:\u001b[0m\u001b[1;33m\u001b[0m\u001b[1;33m\u001b[0m\u001b[0m\n\u001b[0;32m    701\u001b[0m             \u001b[1;31m# fit method of arity 2 (supervised transformation)\u001b[0m\u001b[1;33m\u001b[0m\u001b[1;33m\u001b[0m\u001b[1;33m\u001b[0m\u001b[0m\n",
      "\u001b[1;32m~\\miniconda3\\envs\\abbvie\\lib\\site-packages\\category_encoders\\binary.py\u001b[0m in \u001b[0;36mfit\u001b[1;34m(self, X, y, **kwargs)\u001b[0m\n\u001b[0;32m    103\u001b[0m         \"\"\"\n\u001b[0;32m    104\u001b[0m \u001b[1;33m\u001b[0m\u001b[0m\n\u001b[1;32m--> 105\u001b[1;33m         \u001b[0mself\u001b[0m\u001b[1;33m.\u001b[0m\u001b[0mbase_n_encoder\u001b[0m\u001b[1;33m.\u001b[0m\u001b[0mfit\u001b[0m\u001b[1;33m(\u001b[0m\u001b[0mX\u001b[0m\u001b[1;33m,\u001b[0m \u001b[0my\u001b[0m\u001b[1;33m,\u001b[0m \u001b[1;33m**\u001b[0m\u001b[0mkwargs\u001b[0m\u001b[1;33m)\u001b[0m\u001b[1;33m\u001b[0m\u001b[1;33m\u001b[0m\u001b[0m\n\u001b[0m\u001b[0;32m    106\u001b[0m \u001b[1;33m\u001b[0m\u001b[0m\n\u001b[0;32m    107\u001b[0m         \u001b[1;32mreturn\u001b[0m \u001b[0mself\u001b[0m\u001b[1;33m\u001b[0m\u001b[1;33m\u001b[0m\u001b[0m\n",
      "\u001b[1;32m~\\miniconda3\\envs\\abbvie\\lib\\site-packages\\category_encoders\\basen.py\u001b[0m in \u001b[0;36mfit\u001b[1;34m(self, X, y, **kwargs)\u001b[0m\n\u001b[0;32m    141\u001b[0m \u001b[1;33m\u001b[0m\u001b[0m\n\u001b[0;32m    142\u001b[0m         \u001b[1;31m# do a transform on the training data to get a column list\u001b[0m\u001b[1;33m\u001b[0m\u001b[1;33m\u001b[0m\u001b[1;33m\u001b[0m\u001b[0m\n\u001b[1;32m--> 143\u001b[1;33m         \u001b[0mX_temp\u001b[0m \u001b[1;33m=\u001b[0m \u001b[0mself\u001b[0m\u001b[1;33m.\u001b[0m\u001b[0mtransform\u001b[0m\u001b[1;33m(\u001b[0m\u001b[0mX\u001b[0m\u001b[1;33m,\u001b[0m \u001b[0moverride_return_df\u001b[0m\u001b[1;33m=\u001b[0m\u001b[1;32mTrue\u001b[0m\u001b[1;33m)\u001b[0m\u001b[1;33m\u001b[0m\u001b[1;33m\u001b[0m\u001b[0m\n\u001b[0m\u001b[0;32m    144\u001b[0m         \u001b[0mself\u001b[0m\u001b[1;33m.\u001b[0m\u001b[0m_encoded_columns\u001b[0m \u001b[1;33m=\u001b[0m \u001b[0mX_temp\u001b[0m\u001b[1;33m.\u001b[0m\u001b[0mcolumns\u001b[0m\u001b[1;33m.\u001b[0m\u001b[0mvalues\u001b[0m\u001b[1;33m\u001b[0m\u001b[1;33m\u001b[0m\u001b[0m\n\u001b[0;32m    145\u001b[0m         \u001b[0mself\u001b[0m\u001b[1;33m.\u001b[0m\u001b[0mfeature_names\u001b[0m \u001b[1;33m=\u001b[0m \u001b[0mlist\u001b[0m\u001b[1;33m(\u001b[0m\u001b[0mX_temp\u001b[0m\u001b[1;33m.\u001b[0m\u001b[0mcolumns\u001b[0m\u001b[1;33m)\u001b[0m\u001b[1;33m\u001b[0m\u001b[1;33m\u001b[0m\u001b[0m\n",
      "\u001b[1;32m~\\miniconda3\\envs\\abbvie\\lib\\site-packages\\category_encoders\\basen.py\u001b[0m in \u001b[0;36mtransform\u001b[1;34m(self, X, override_return_df)\u001b[0m\n\u001b[0;32m    230\u001b[0m                 \u001b[1;32mraise\u001b[0m \u001b[0mValueError\u001b[0m\u001b[1;33m(\u001b[0m\u001b[1;34m'Columns to be encoded can not contain new values'\u001b[0m\u001b[1;33m)\u001b[0m\u001b[1;33m\u001b[0m\u001b[1;33m\u001b[0m\u001b[0m\n\u001b[0;32m    231\u001b[0m \u001b[1;33m\u001b[0m\u001b[0m\n\u001b[1;32m--> 232\u001b[1;33m         \u001b[0mX_out\u001b[0m \u001b[1;33m=\u001b[0m \u001b[0mself\u001b[0m\u001b[1;33m.\u001b[0m\u001b[0mbasen_encode\u001b[0m\u001b[1;33m(\u001b[0m\u001b[0mX_out\u001b[0m\u001b[1;33m,\u001b[0m \u001b[0mcols\u001b[0m\u001b[1;33m=\u001b[0m\u001b[0mself\u001b[0m\u001b[1;33m.\u001b[0m\u001b[0mcols\u001b[0m\u001b[1;33m)\u001b[0m\u001b[1;33m\u001b[0m\u001b[1;33m\u001b[0m\u001b[0m\n\u001b[0m\u001b[0;32m    233\u001b[0m \u001b[1;33m\u001b[0m\u001b[0m\n\u001b[0;32m    234\u001b[0m         \u001b[1;32mif\u001b[0m \u001b[0mself\u001b[0m\u001b[1;33m.\u001b[0m\u001b[0mdrop_invariant\u001b[0m\u001b[1;33m:\u001b[0m\u001b[1;33m\u001b[0m\u001b[1;33m\u001b[0m\u001b[0m\n",
      "\u001b[1;32m~\\miniconda3\\envs\\abbvie\\lib\\site-packages\\category_encoders\\basen.py\u001b[0m in \u001b[0;36mbasen_encode\u001b[1;34m(self, X_in, cols)\u001b[0m\n\u001b[0;32m    327\u001b[0m             \u001b[0mbase_df\u001b[0m \u001b[1;33m=\u001b[0m \u001b[0mmod\u001b[0m\u001b[1;33m.\u001b[0m\u001b[0mreindex\u001b[0m\u001b[1;33m(\u001b[0m\u001b[0mX\u001b[0m\u001b[1;33m[\u001b[0m\u001b[0mcol\u001b[0m\u001b[1;33m]\u001b[0m\u001b[1;33m)\u001b[0m\u001b[1;33m\u001b[0m\u001b[1;33m\u001b[0m\u001b[0m\n\u001b[0;32m    328\u001b[0m             \u001b[0mbase_df\u001b[0m\u001b[1;33m.\u001b[0m\u001b[0mset_index\u001b[0m\u001b[1;33m(\u001b[0m\u001b[0mX\u001b[0m\u001b[1;33m.\u001b[0m\u001b[0mindex\u001b[0m\u001b[1;33m,\u001b[0m \u001b[0minplace\u001b[0m\u001b[1;33m=\u001b[0m\u001b[1;32mTrue\u001b[0m\u001b[1;33m)\u001b[0m\u001b[1;33m\u001b[0m\u001b[1;33m\u001b[0m\u001b[0m\n\u001b[1;32m--> 329\u001b[1;33m             \u001b[0mX\u001b[0m \u001b[1;33m=\u001b[0m \u001b[0mpd\u001b[0m\u001b[1;33m.\u001b[0m\u001b[0mconcat\u001b[0m\u001b[1;33m(\u001b[0m\u001b[1;33m[\u001b[0m\u001b[0mbase_df\u001b[0m\u001b[1;33m,\u001b[0m \u001b[0mX\u001b[0m\u001b[1;33m]\u001b[0m\u001b[1;33m,\u001b[0m \u001b[0maxis\u001b[0m\u001b[1;33m=\u001b[0m\u001b[1;36m1\u001b[0m\u001b[1;33m)\u001b[0m\u001b[1;33m\u001b[0m\u001b[1;33m\u001b[0m\u001b[0m\n\u001b[0m\u001b[0;32m    330\u001b[0m \u001b[1;33m\u001b[0m\u001b[0m\n\u001b[0;32m    331\u001b[0m             \u001b[0mold_column_index\u001b[0m \u001b[1;33m=\u001b[0m \u001b[0mcols\u001b[0m\u001b[1;33m.\u001b[0m\u001b[0mindex\u001b[0m\u001b[1;33m(\u001b[0m\u001b[0mcol\u001b[0m\u001b[1;33m)\u001b[0m\u001b[1;33m\u001b[0m\u001b[1;33m\u001b[0m\u001b[0m\n",
      "\u001b[1;32m~\\miniconda3\\envs\\abbvie\\lib\\site-packages\\pandas\\core\\reshape\\concat.py\u001b[0m in \u001b[0;36mconcat\u001b[1;34m(objs, axis, join, ignore_index, keys, levels, names, verify_integrity, sort, copy)\u001b[0m\n\u001b[0;32m    296\u001b[0m     )\n\u001b[0;32m    297\u001b[0m \u001b[1;33m\u001b[0m\u001b[0m\n\u001b[1;32m--> 298\u001b[1;33m     \u001b[1;32mreturn\u001b[0m \u001b[0mop\u001b[0m\u001b[1;33m.\u001b[0m\u001b[0mget_result\u001b[0m\u001b[1;33m(\u001b[0m\u001b[1;33m)\u001b[0m\u001b[1;33m\u001b[0m\u001b[1;33m\u001b[0m\u001b[0m\n\u001b[0m\u001b[0;32m    299\u001b[0m \u001b[1;33m\u001b[0m\u001b[0m\n\u001b[0;32m    300\u001b[0m \u001b[1;33m\u001b[0m\u001b[0m\n",
      "\u001b[1;32m~\\miniconda3\\envs\\abbvie\\lib\\site-packages\\pandas\\core\\reshape\\concat.py\u001b[0m in \u001b[0;36mget_result\u001b[1;34m(self)\u001b[0m\n\u001b[0;32m    518\u001b[0m                 \u001b[0mmgrs_indexers\u001b[0m\u001b[1;33m.\u001b[0m\u001b[0mappend\u001b[0m\u001b[1;33m(\u001b[0m\u001b[1;33m(\u001b[0m\u001b[0mobj\u001b[0m\u001b[1;33m.\u001b[0m\u001b[0m_mgr\u001b[0m\u001b[1;33m,\u001b[0m \u001b[0mindexers\u001b[0m\u001b[1;33m)\u001b[0m\u001b[1;33m)\u001b[0m\u001b[1;33m\u001b[0m\u001b[1;33m\u001b[0m\u001b[0m\n\u001b[0;32m    519\u001b[0m \u001b[1;33m\u001b[0m\u001b[0m\n\u001b[1;32m--> 520\u001b[1;33m             new_data = concatenate_block_managers(\n\u001b[0m\u001b[0;32m    521\u001b[0m                 \u001b[0mmgrs_indexers\u001b[0m\u001b[1;33m,\u001b[0m \u001b[0mself\u001b[0m\u001b[1;33m.\u001b[0m\u001b[0mnew_axes\u001b[0m\u001b[1;33m,\u001b[0m \u001b[0mconcat_axis\u001b[0m\u001b[1;33m=\u001b[0m\u001b[0mself\u001b[0m\u001b[1;33m.\u001b[0m\u001b[0mbm_axis\u001b[0m\u001b[1;33m,\u001b[0m \u001b[0mcopy\u001b[0m\u001b[1;33m=\u001b[0m\u001b[0mself\u001b[0m\u001b[1;33m.\u001b[0m\u001b[0mcopy\u001b[0m\u001b[1;33m\u001b[0m\u001b[1;33m\u001b[0m\u001b[0m\n\u001b[0;32m    522\u001b[0m             )\n",
      "\u001b[1;32m~\\miniconda3\\envs\\abbvie\\lib\\site-packages\\pandas\\core\\internals\\concat.py\u001b[0m in \u001b[0;36mconcatenate_block_managers\u001b[1;34m(mgrs_indexers, axes, concat_axis, copy)\u001b[0m\n\u001b[0;32m     62\u001b[0m             \u001b[0mvalues\u001b[0m \u001b[1;33m=\u001b[0m \u001b[0mb\u001b[0m\u001b[1;33m.\u001b[0m\u001b[0mvalues\u001b[0m\u001b[1;33m\u001b[0m\u001b[1;33m\u001b[0m\u001b[0m\n\u001b[0;32m     63\u001b[0m             \u001b[1;32mif\u001b[0m \u001b[0mcopy\u001b[0m\u001b[1;33m:\u001b[0m\u001b[1;33m\u001b[0m\u001b[1;33m\u001b[0m\u001b[0m\n\u001b[1;32m---> 64\u001b[1;33m                 \u001b[0mvalues\u001b[0m \u001b[1;33m=\u001b[0m \u001b[0mvalues\u001b[0m\u001b[1;33m.\u001b[0m\u001b[0mcopy\u001b[0m\u001b[1;33m(\u001b[0m\u001b[1;33m)\u001b[0m\u001b[1;33m\u001b[0m\u001b[1;33m\u001b[0m\u001b[0m\n\u001b[0m\u001b[0;32m     65\u001b[0m             \u001b[1;32melse\u001b[0m\u001b[1;33m:\u001b[0m\u001b[1;33m\u001b[0m\u001b[1;33m\u001b[0m\u001b[0m\n\u001b[0;32m     66\u001b[0m                 \u001b[0mvalues\u001b[0m \u001b[1;33m=\u001b[0m \u001b[0mvalues\u001b[0m\u001b[1;33m.\u001b[0m\u001b[0mview\u001b[0m\u001b[1;33m(\u001b[0m\u001b[1;33m)\u001b[0m\u001b[1;33m\u001b[0m\u001b[1;33m\u001b[0m\u001b[0m\n",
      "\u001b[1;31mMemoryError\u001b[0m: Unable to allocate 3.44 GiB for an array with shape (13, 35466276) and data type int64"
     ]
    }
   ],
   "source": [
    "lb_prod_ai = ce.BinaryEncoder(cols='prod_ai', return_df=True)\n",
    "binary_data = lb_prod_ai.fit_transform(filter_df)\n",
    "# lb_prod_ai = LabelEncoder()\n",
    "# filter_df['prod_ai_n'] = lb_prod_ai.fit_transform(filter_df['prod_ai'])\n",
    "# filter_df.head()"
   ]
  },
  {
   "cell_type": "code",
   "execution_count": null,
   "id": "7ce140e3",
   "metadata": {},
   "outputs": [],
   "source": [
    "filter_df = binary_data \n",
    "filter_df.head()"
   ]
  },
  {
   "cell_type": "code",
   "execution_count": null,
   "id": "c4b1060b",
   "metadata": {},
   "outputs": [],
   "source": [
    "filter_df.shape[0]"
   ]
  },
  {
   "cell_type": "markdown",
   "id": "3f2d2245",
   "metadata": {},
   "source": [
    "filter_df.to_csv('binary.csv',sep='$', index=False)"
   ]
  },
  {
   "cell_type": "markdown",
   "id": "40ac4327",
   "metadata": {},
   "source": [
    "adverse_effects = ['Neutropenia','Nasopharyngitis','Pyrexia','Vomiting','Pneumonia', 'Type 2 diabetes mellitus','Acute coronary syndrome', 'Nausea']\n",
    "clf = []\n",
    "for effect in adverse_effects:\n",
    "    temp_df = filter_df.copy()\n",
    "    temp_df.loc[(temp_df['pt'] != effect),'pt'] = 0\n",
    "    temp_df.loc[(temp_df['pt'] == effect),'pt'] = 1\n",
    "    print(effect)\n",
    "    sample_amount = len(temp_df[temp_df['pt'] == 1])\n",
    "    data = temp_df[temp_df['pt'] == 1]\n",
    "    data = data.append(temp_df[temp_df['pt'] != 1].sample(sample_amount),ignore_index=True)\n",
    "    print(data.pt.value_counts())\n",
    "    features = data.drop(columns=['primaryid','caseid','drugname','pt'])\n",
    "    target = data.drop(columns=['primaryid','caseid','drugname','age','sex','wt'])\n",
    "    features = features.drop(columns=['prod_ai'])\n",
    "    final_target = target['pt'].astype('int')\n",
    "    print(final_target.value_counts())\n",
    "    X_train, X_test, y_train, y_test = train_test_split(features, final_target, test_size = 0.3, random_state=0, shuffle= True)\n",
    "    rfc = RandomForestClassifier(n_estimators = 250)\n",
    "    rfc.fit(X_train,y_train)\n",
    "    rfc_pred = rfc.predict(X_test)\n",
    "    clf.append(rfc)\n",
    "    print(rfc.feature_importances_)\n",
    "    print(classification_report(y_test, rfc_pred))"
   ]
  },
  {
   "cell_type": "markdown",
   "id": "c026429a",
   "metadata": {},
   "source": [
    "for c in clf:\n",
    "    prediction = c.predict_proba([[3.0, 1, 59.0, 2520]])\n",
    "    print(prediction)"
   ]
  },
  {
   "cell_type": "markdown",
   "id": "f9652fbb",
   "metadata": {},
   "source": [
    "features.head()"
   ]
  },
  {
   "cell_type": "markdown",
   "id": "21382d80",
   "metadata": {},
   "source": [
    "final_target.head()"
   ]
  },
  {
   "cell_type": "markdown",
   "id": "1be11afa",
   "metadata": {},
   "source": [
    "filter_df.loc[(filter_df['pt'] != 'Neutropenia'), 'pt'] = 'not'"
   ]
  },
  {
   "cell_type": "markdown",
   "id": "851fee9a",
   "metadata": {},
   "source": [
    "filter_df.pt.value_counts([1.0, 0, 44.44, 2039])"
   ]
  },
  {
   "cell_type": "markdown",
   "id": "74916bad",
   "metadata": {},
   "source": [
    "data = filter_df[filter_df['pt'] == 'Neutropenia']\n",
    "data = data.append(filter_df[filter_df['pt'] != 'Neutropenia'].sample(30000),ignore_index=True)\n",
    "data.head()"
   ]
  },
  {
   "cell_type": "markdown",
   "id": "0b0301e9",
   "metadata": {},
   "source": [
    "data.pt.value_counts()"
   ]
  },
  {
   "cell_type": "markdown",
   "id": "533212eb",
   "metadata": {},
   "source": [
    "features = data.drop(columns=['primaryid','caseid','drugname','pt'])\n",
    "target = data.drop(columns=['primaryid','caseid','drugname','age','sex','wt'])\n",
    "target.head()"
   ]
  },
  {
   "cell_type": "markdown",
   "id": "8d5331af",
   "metadata": {},
   "source": [
    "lb_prod_ai = LabelEncoder()\n",
    "features['prod_ai_n'] = lb_prod_ai.fit_transform(features['prod_ai'])\n",
    "features = features.drop(columns=['prod_ai'])\n",
    "features.head()\n"
   ]
  },
  {
   "cell_type": "markdown",
   "id": "101832d9",
   "metadata": {},
   "source": [
    "lb_pt = LabelEncoder()\n",
    "target['pt_n'] = lb_pt.fit_transform(target['pt'])\n",
    "target.head()\n",
    "target.pt_n.value_counts()\n",
    "final_target = target['pt_n']\n",
    "final_target.head()"
   ]
  },
  {
   "cell_type": "markdown",
   "id": "99ab28b6",
   "metadata": {},
   "source": [
    "print(list(features.prod_ai_n.unique()))"
   ]
  },
  {
   "cell_type": "markdown",
   "id": "b3120cde",
   "metadata": {},
   "source": [
    "X_train, X_test, y_train, y_test = train_test_split(features, final_target, test_size = 0.3, random_state=0, shuffle= True)\n",
    "dtc = tree.DecisionTreeClassifier()\n",
    "dtc.fit(X_train,y_train)\n",
    "dtc_pred = dtc.predict(X_test)\n",
    "confusion_matrix(y_test, dtc_pred)\n"
   ]
  },
  {
   "cell_type": "markdown",
   "id": "2064aa10",
   "metadata": {},
   "source": [
    "print(classification_report(y_test, dtc_pred))"
   ]
  },
  {
   "cell_type": "code",
   "execution_count": null,
   "id": "5761d42d",
   "metadata": {},
   "outputs": [],
   "source": []
  },
  {
   "cell_type": "code",
   "execution_count": null,
   "id": "bb3bc0b8",
   "metadata": {},
   "outputs": [],
   "source": []
  },
  {
   "cell_type": "code",
   "execution_count": null,
   "id": "bcea0cde",
   "metadata": {},
   "outputs": [],
   "source": []
  },
  {
   "cell_type": "markdown",
   "id": "870eacb6",
   "metadata": {},
   "source": []
  }
 ],
 "metadata": {
  "kernelspec": {
   "display_name": "Python 3",
   "language": "python",
   "name": "python3"
  },
  "language_info": {
   "codemirror_mode": {
    "name": "ipython",
    "version": 3
   },
   "file_extension": ".py",
   "mimetype": "text/x-python",
   "name": "python",
   "nbconvert_exporter": "python",
   "pygments_lexer": "ipython3",
   "version": "3.9.2"
  }
 },
 "nbformat": 4,
 "nbformat_minor": 5
}
